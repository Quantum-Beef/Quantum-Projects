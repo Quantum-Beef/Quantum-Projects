{
 "cells": [
  {
   "cell_type": "code",
   "execution_count": 32,
   "id": "ec53549c",
   "metadata": {},
   "outputs": [],
   "source": [
    "import random\n",
    "import numpy as np\n",
    "import matplotlib.pyplot as plt"
   ]
  },
  {
   "cell_type": "code",
   "execution_count": 2,
   "id": "70615bbf",
   "metadata": {},
   "outputs": [],
   "source": [
    "def CoinFlip():\n",
    "    return random.randint(0, 1)\n",
    "\n",
    "# We can preset some coin flips in a list\n",
    "def CoinFlipList(n):\n",
    "    '''\n",
    "        n = size of the list\n",
    "    '''\n",
    "    return [CoinFlip() for i in range(n)]\n",
    "\n",
    "def Position(x,n):\n",
    "    '''\n",
    "        x = start position\n",
    "        n = number of steps\n",
    "    '''\n",
    "    \n",
    "    for i in CoinFlipList(n):\n",
    "        if i == 1:\n",
    "            x-=1\n",
    "        else:\n",
    "            x+=1\n",
    "            \n",
    "    return x"
   ]
  },
  {
   "cell_type": "code",
   "execution_count": 124,
   "id": "acc34959",
   "metadata": {},
   "outputs": [
    {
     "data": {
      "text/plain": [
       "[<matplotlib.lines.Line2D at 0x7fab4141cb20>]"
      ]
     },
     "execution_count": 124,
     "metadata": {},
     "output_type": "execute_result"
    },
    {
     "data": {
      "image/png": "[encoded data removed]",
      "text/plain": [
       "<Figure size 432x288 with 1 Axes>"
      ]
     },
     "metadata": {
      "needs_background": "light"
     },
     "output_type": "display_data"
    }
   ],
   "source": [
    "count = 1\n",
    "T = 80\n",
    "x=0\n",
    "\n",
    "pos_x = [i for i in range(-T,T + 1)]\n",
    "freq_y = [0 for i in range(-T,T + 1)]\n",
    "\n",
    "while count < 1001:\n",
    "    p = Position(x,T)\n",
    "    r = p + T # Shift position to find appropriate index position in list\n",
    "    freq_y[r]+=1 # Increment the frequency\n",
    "    count+=1\n",
    "    \n",
    "del pos_x[1::2]\n",
    "del freq_y[1::2] \n",
    "    \n",
    "# plt.scatter(pos_x, freq_y,marker= \"*\", s=10)\n",
    "plt.plot(pos_x, freq_y)"
   ]
  },
  {
   "cell_type": "code",
   "execution_count": 78,
   "id": "62af27dc",
   "metadata": {},
   "outputs": [],
   "source": [
    "import pandas as pd  \n",
    "  \n",
    "dict = {'pos': pos_x, 'freq': freq_y}  \n",
    "       \n",
    "df = pd.DataFrame(dict) \n",
    "    \n",
    "df.to_csv('DistributionData.csv') "
   ]
  }
 ],
 "metadata": {
  "kernelspec": {
   "display_name": "Python 3 (ipykernel)",
   "language": "python",
   "name": "python3"
  },
  "language_info": {
   "codemirror_mode": {
    "name": "ipython",
    "version": 3
   },
   "file_extension": ".py",
   "mimetype": "text/x-python",
   "name": "python",
   "nbconvert_exporter": "python",
   "pygments_lexer": "ipython3",
   "version": "3.9.7"
  }
 },
 "nbformat": 4,
 "nbformat_minor": 5
}
